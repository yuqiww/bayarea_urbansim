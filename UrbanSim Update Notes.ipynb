{
 "cells": [
  {
   "cell_type": "markdown",
   "metadata": {},
   "source": [
    "## Input files update notes\n",
    "\n",
    "* Existing Planned Land Use\n",
    "\n",
    "    * **2020_03_04_zoning_parcels.csv** is stored on Box because of its size. This file links each parcel to its zoning_type_id. \n",
    "    When this file is updated, update the [datasources.py'](https://github.com/BayAreaMetro/bayarea_urbansim/blob/0bb19066c9da84e8b1128f5ca36951eeebf844bf/baus/datasources.py#L288) file in the 'baus' folder. \n",
    " \n",
    "    * **zoning_lookup.csv** joins with the file above using id and provides the contraints for each zoning_type. Maximum allowable intensity is provide by max_far (Floor Area Ratio) for commercial development and by max_dua (Dwelling Units per Acre). max_height constrains either type of development when it in not NULL. The 14 two-letter variables are dummy variable denoting whether each of these building types can be built in this zoning_type ([lookup file for zoning type and building type](https://github.com/BayAreaMetro/petrale/blob/master/incoming/dv_buildings_det_type_lu.csv)). Note: the initial data collection used the first column - the detailed building type when it was available. It was then converted to building_type for use in the model. The zoning uses zoning_bldg_type is used for zoning-related analysis.\n",
    "    When this file is updated, update the [datasources.py'](https://github.com/BayAreaMetro/bayarea_urbansim/blob/0bb19066c9da84e8b1128f5ca36951eeebf844bf/baus/datasources.py#L280) file in the 'baus' folder. "
   ]
  },
  {
   "cell_type": "markdown",
   "metadata": {},
   "source": [
    "* Scenario Planned Land Use\n",
    "    * When changing the field name of the planned land use designation (e.g. from 'zoningmodcat' in PBA40 to 'pba50zoningmodcat' in PBA50, update the the [datasources.py'](https://github.com/BayAreaMetro/bayarea_urbansim/blob/0bb19066c9da84e8b1128f5ca36951eeebf844bf/baus/datasources.py#L426) file in the 'baus' folder to source the new field.  \n",
    "    * When adding new zoning scenarios, add the associated scenario-specific modfication table (e.g., for Scenario 4 see [zoning_mods_4.csv](https://github.com/BayAreaMetro/bayarea_urbansim/blob/master/data/zoning_mods_4.csv)) into the ['data' folder](https://github.com/BayAreaMetro/bayarea_urbansim/tree/master/data), and insert a new column representing the new scenario into ['development_projects.csv'](https://github.com/BayAreaMetro/bayarea_urbansim/blob/master/data/development_projects.csv). "
   ]
  },
  {
   "cell_type": "markdown",
   "metadata": {},
   "source": [
    "* Base Year GeoDatabase\n",
    "    * **03_04_2020_parcels_geography.csv**. When this file is updated, update the [datasources.py'](https://github.com/BayAreaMetro/bayarea_urbansim/blob/0bb19066c9da84e8b1128f5ca36951eeebf844bf/baus/datasources.py#L459) file in the 'baus' folder. \n",
    "    * **2015_08_29_costar.csv**\n",
    "    * **2018_05_23_parcel_to_maz22.csv**\n",
    "    * **2018_10_17_parcel_to_taz1454sub.csv**"
   ]
  }
 ],
 "metadata": {
  "kernelspec": {
   "display_name": "Python 3",
   "language": "python",
   "name": "python3"
  },
  "language_info": {
   "codemirror_mode": {
    "name": "ipython",
    "version": 3
   },
   "file_extension": ".py",
   "mimetype": "text/x-python",
   "name": "python",
   "nbconvert_exporter": "python",
   "pygments_lexer": "ipython3",
   "version": "3.7.4"
  }
 },
 "nbformat": 4,
 "nbformat_minor": 2
}
